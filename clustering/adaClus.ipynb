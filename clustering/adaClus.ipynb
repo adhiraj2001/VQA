{
 "cells": [
  {
   "cell_type": "code",
   "execution_count": 2,
   "id": "c3b56320",
   "metadata": {},
   "outputs": [],
   "source": [
    "import numpy as np\n",
    "from sklearn.neighbors import KDTree\n",
    "from sklearn.neighbors import DistanceMetric\n",
    "from sklearn.cluster import MiniBatchKMeans, KMeans\n",
    "from tqdm import tqdm\n",
    "from sklearn.metrics.pairwise import pairwise_distances_argmin\n",
    "import time\n"
   ]
  },
  {
   "cell_type": "code",
   "execution_count": 3,
   "id": "ca866858",
   "metadata": {},
   "outputs": [],
   "source": [
    "vqa_features = np.load('./data/train_vqa_features.npy', allow_pickle=True).tolist()\n",
    "indices, features = vqa_features['vqa_idx'], vqa_features['features_fc1']\n",
    "indices = np.array(indices)\n",
    "\n",
    "dataset_sz = len(features)"
   ]
  },
  {
   "cell_type": "code",
   "execution_count": 4,
   "id": "5248099c",
   "metadata": {},
   "outputs": [
    {
     "name": "stdout",
     "output_type": "stream",
     "text": [
      "shape of features:  (443757, 1000)\n",
      "shape of indices:  (443757,)\n"
     ]
    }
   ],
   "source": [
    "print(\"shape of features: \", features.shape)\n",
    "print(\"shape of indices: \", indices.shape)"
   ]
  },
  {
   "cell_type": "code",
   "execution_count": 3,
   "id": "b0123df7",
   "metadata": {},
   "outputs": [],
   "source": [
    "from numpy import unique\n",
    "from numpy import where\n",
    "#from matplotlib import pyplot\n",
    "from sklearn.datasets import make_classification\n",
    "from sklearn.cluster import Birch"
   ]
  },
  {
   "cell_type": "code",
   "execution_count": 7,
   "id": "bc78f236",
   "metadata": {},
   "outputs": [
    {
     "name": "stdout",
     "output_type": "stream",
     "text": [
      "1681885227.7164066\n",
      "1681886305.994714\n",
      "1681886329.4778535\n",
      "[2651 4422 4698 ... 3631 3676 5372]\n"
     ]
    }
   ],
   "source": [
    "from sklearn.cluster import MiniBatchKMeans\n",
    "from sklearn.utils import parallel_backend\n",
    "import time\n",
    "\n",
    "kmeans_model = MiniBatchKMeans(n_clusters=10000, batch_size=100, n_init=10, max_no_improvement=10, verbose=0, random_state=42)\n",
    "print(time.time())\n",
    "\n",
    "with parallel_backend('multiprocessing', n_jobs=-1):\n",
    "    kmeans_model.partial_fit(features.squeeze())\n",
    "\n",
    "print(time.time())\n",
    "\n",
    "kmeans_labels = kmeans_model.predict(features.squeeze())\n",
    "print(time.time())\n",
    "print(kmeans_labels)\n"
   ]
  },
  {
   "cell_type": "code",
   "execution_count": 4,
   "id": "0b891166",
   "metadata": {},
   "outputs": [],
   "source": [
    "import pickle"
   ]
  },
  {
   "cell_type": "code",
   "execution_count": 10,
   "id": "ab5c9b98",
   "metadata": {},
   "outputs": [],
   "source": [
    "# save model and labels\n",
    "with open('kmeans_model.pkl', 'wb') as f:\n",
    "    pickle.dump(kmeans_model, f)\n",
    "\n",
    "with open('labels.pkl', 'wb') as f:\n",
    "    pickle.dump(kmeans_labels, f)\n"
   ]
  },
  {
   "cell_type": "code",
   "execution_count": 5,
   "id": "52f428a8",
   "metadata": {},
   "outputs": [],
   "source": [
    "with open('kmeans_model.pkl', 'rb') as f:\n",
    "    kmeans_model = pickle.load(f)\n",
    "\n",
    "# load labels\n",
    "with open('labels.pkl', 'rb') as f:\n",
    "    kmeans_labels = pickle.load(f)"
   ]
  },
  {
   "cell_type": "code",
   "execution_count": 6,
   "id": "5edbd744",
   "metadata": {},
   "outputs": [
    {
     "name": "stdout",
     "output_type": "stream",
     "text": [
      "[[ 0.06863916  0.2534172   0.10789369 ... -0.2115441   0.08754913\n",
      "   0.01806714]\n",
      " [ 0.13064805 -0.09504803  0.2234054  ... -0.16325949 -0.10266946\n",
      "  -0.19426823]\n",
      " [ 0.06755423 -0.17248109  0.17541368 ... -0.09177572  0.00855821\n",
      "   0.12957056]\n",
      " ...\n",
      " [ 0.24439205 -0.18738632  0.16365345 ... -0.07598827 -0.04716949\n",
      "  -0.2192129 ]\n",
      " [ 0.01130708  0.01074852 -0.08228029 ... -0.00130801 -0.24420989\n",
      "   0.29326463]\n",
      " [-0.0523099  -0.21168521  0.32329524 ...  0.11451166 -0.0624956\n",
      "  -0.05655364]]\n"
     ]
    }
   ],
   "source": [
    "cluster_centers = kmeans_model.cluster_centers_\n",
    "print(cluster_centers)"
   ]
  },
  {
   "cell_type": "code",
   "execution_count": 7,
   "id": "3e551265",
   "metadata": {},
   "outputs": [],
   "source": [
    "from scipy.spatial import KDTree\n",
    "# Build k-d tree\n",
    "kdtree = KDTree(cluster_centers)"
   ]
  },
  {
   "cell_type": "code",
   "execution_count": 8,
   "id": "b1883196",
   "metadata": {},
   "outputs": [
    {
     "name": "stdout",
     "output_type": "stream",
     "text": [
      "10000\n"
     ]
    }
   ],
   "source": [
    "print(len(cluster_centers))"
   ]
  },
  {
   "cell_type": "code",
   "execution_count": 11,
   "id": "be11bd48",
   "metadata": {},
   "outputs": [],
   "source": [
    "cluster_features = {}\n",
    "for i in range(len(cluster_centers)):\n",
    "    nearest_1_to_4_indices = kdtree.query(cluster_centers[i].reshape(1, -1), k=5)[1][0]\n",
    "    nearest_20_to_24_indices = kdtree.query(cluster_centers[i].reshape(1, -1), k=25)[1][0][20:]\n",
    "    cluster_indices = [ nearest_1_to_4_indices, nearest_20_to_24_indices]\n",
    "    cluster_features[i] = cluster_indices\n"
   ]
  },
  {
   "cell_type": "code",
   "execution_count": 16,
   "id": "f2fdbfc8",
   "metadata": {},
   "outputs": [
    {
     "name": "stdout",
     "output_type": "stream",
     "text": [
      "Shape of cluster_features: 10000\n",
      "[array([   0, 4745, 6873, 9693, 9714]), array([7989,  418, 8337, 2752, 7298])]\n"
     ]
    }
   ],
   "source": [
    "print(f\"Shape of cluster_features: {len(cluster_features)}\")\n",
    "print(cluster_features[0])\n"
   ]
  },
  {
   "cell_type": "code",
   "execution_count": 17,
   "id": "e4481648",
   "metadata": {},
   "outputs": [],
   "source": [
    "# Find the indices of points that belong to cluster number i\n",
    "cluster_i_indices = np.where(kmeans_labels == 1)[0]"
   ]
  },
  {
   "cell_type": "code",
   "execution_count": 18,
   "id": "db70124b",
   "metadata": {},
   "outputs": [
    {
     "name": "stdout",
     "output_type": "stream",
     "text": [
      "[  8834  18442  21009  21694  24316  28134  52735  56047  76627  81932\n",
      "  88821 101078 115898 121222 144642 146692 149629 174251 175267 178251\n",
      " 181591 189704 191021 230825 243681 247558 249036 249636 253849 254601\n",
      " 275897 276378 294587 294601 309607 312158 317218 320043 327732 333131\n",
      " 334649 340105 344357 344397 354653 366456 366809 369732 388423 392331\n",
      " 396454 410622 414528 417691 418930 423911 428651]\n"
     ]
    }
   ],
   "source": [
    "print(cluster_i_indices)"
   ]
  },
  {
   "cell_type": "code",
   "execution_count": null,
   "id": "55784ccc",
   "metadata": {},
   "outputs": [],
   "source": [
    "cluster_lists = []\n",
    "for i in range(len(cluster_centers)):\n",
    "    cluster_idx = i\n",
    "    cluster_points = np.where(kmeans_labels == cluster_idx)[0].tolist()\n",
    "    nearest_1_to_4_indices = cluster_features[i][1:5].tolist()\n",
    "    nearest_20_to_24_indices = cluster_features[i][5:].tolist()\n",
    "    cluster_lists.append([cluster_points, nearest_1_to_4_indices, nearest_20_to_24_indices])\n"
   ]
  },
  {
   "cell_type": "code",
   "execution_count": 19,
   "id": "d9b3d3ad",
   "metadata": {},
   "outputs": [],
   "source": [
    "cluster_lists = []\n",
    "for i in range(len(cluster_centers)):\n",
    "    cluster_idx = i\n",
    "    cluster_points = np.where(kmeans_labels == cluster_idx)[0].tolist()\n",
    "    nearest_cluster_indices = []\n",
    "    for idx in cluster_features[i][0]:\n",
    "        nearest_cluster_indices += np.where(kmeans_labels == idx)[0].tolist()\n",
    "    far_cluster_indices = []\n",
    "    for idx in cluster_features[i][1]:\n",
    "        far_cluster_indices += np.where(kmeans_labels == idx)[0].tolist()\n",
    "        \n",
    "        \n",
    "    # Store the points in separate lists\n",
    "    anchor_points = cluster_points\n",
    "    near_points = nearest_cluster_indices\n",
    "    far_points = far_cluster_indices\n",
    "\n",
    "    # Append the lists to the cluster_lists list\n",
    "    cluster_lists.append([anchor_points, near_points, far_points])\n"
   ]
  },
  {
   "cell_type": "code",
   "execution_count": 21,
   "id": "0e5b1038",
   "metadata": {},
   "outputs": [
    {
     "name": "stdout",
     "output_type": "stream",
     "text": [
      "[[2917, 22072, 22824, 29547, 42478, 60025, 73119, 80742, 111300, 131918, 134449, 137043, 153894, 177236, 186996, 196206, 206481, 255108, 269355, 279607, 281385, 296386, 307309, 312727, 316695, 319151, 323610, 343111, 345244, 362457, 366670, 371390, 374831, 407810, 428155], [2917, 22072, 22824, 29547, 42478, 60025, 73119, 80742, 111300, 131918, 134449, 137043, 153894, 177236, 186996, 196206, 206481, 255108, 269355, 279607, 281385, 296386, 307309, 312727, 316695, 319151, 323610, 343111, 345244, 362457, 366670, 371390, 374831, 407810, 428155, 3537, 16539, 17433, 34340, 39380, 43037, 62081, 70236, 73926, 77376, 102800, 122003, 129730, 134712, 148365, 154099, 181919, 189891, 194910, 197819, 202990, 237612, 252352, 263149, 271299, 285780, 300652, 311307, 351096, 353613, 375092, 377509, 399984, 435105, 441985, 3702, 4215, 11198, 12742, 26998, 32697, 38847, 40963, 71958, 79458, 83555, 83565, 89197, 90477, 100112, 103839, 125595, 137606, 152052, 152282, 152454, 160765, 167483, 174436, 175769, 176099, 190424, 209155, 210473, 221058, 222730, 227479, 234161, 235362, 239953, 254894, 271246, 273940, 275180, 297013, 309748, 313347, 314843, 328232, 356909, 360797, 361715, 372446, 379166, 383048, 394386, 412408, 419302, 420264, 421336, 45742, 47051, 47918, 48176, 54911, 65587, 73455, 76843, 79156, 97182, 120627, 125994, 127512, 139094, 144997, 159639, 164526, 166178, 167123, 168458, 169866, 171495, 183066, 191579, 192750, 198779, 201229, 212119, 218648, 221138, 223005, 225718, 233154, 235900, 250932, 254699, 258724, 265328, 266707, 266713, 276346, 277530, 279772, 285329, 286482, 299559, 299717, 301381, 305050, 311611, 329199, 334983, 338082, 349036, 361281, 364014, 364348, 364665, 366921, 382787, 387469, 387757, 394876, 401965, 401980, 403993, 411167, 411708, 417338, 418041, 420247, 428966, 430008, 435041, 34923, 60847, 68852, 77824, 80030, 111950, 113527, 150686, 179863, 196094, 204986, 261544, 265284, 272346, 282173, 296513, 303168, 336006, 344296, 359197, 409189, 430297, 442682], [109, 5716, 11708, 20708, 36591, 39210, 51045, 60619, 67270, 73190, 75545, 87910, 96656, 108257, 109784, 110819, 122093, 140152, 144370, 156347, 161664, 165544, 168069, 174261, 182200, 192785, 195547, 199016, 227004, 235593, 246382, 250769, 251371, 260358, 263572, 297831, 302906, 317810, 328177, 343006, 346300, 355040, 366445, 376750, 378819, 394271, 415038, 435042, 3841, 12225, 20253, 27326, 28459, 29149, 37463, 43322, 68163, 73354, 78067, 104661, 117239, 126143, 141474, 142698, 143929, 150277, 181622, 196586, 202351, 223012, 223218, 228737, 231082, 245834, 248640, 249485, 250392, 277369, 280407, 301709, 304162, 308953, 312878, 317089, 323420, 348393, 353090, 356154, 374321, 420716, 431775, 439650, 5330, 29822, 73102, 74225, 81804, 88951, 92784, 93600, 116954, 122654, 138611, 142162, 173842, 176029, 197184, 211381, 217446, 232755, 239156, 253300, 257859, 264217, 275183, 276025, 281057, 282041, 299959, 310172, 329388, 354248, 355290, 355362, 363110, 398471, 400184, 431394, 431456, 27155, 35619, 58027, 70368, 81978, 124213, 142630, 144556, 156157, 172958, 190511, 195136, 210742, 217315, 235994, 245338, 270246, 270671, 272320, 272694, 281794, 281980, 284236, 290690, 302949, 303154, 308402, 318726, 335295, 336346, 347151, 348663, 362999, 374834, 380280, 397303, 405622, 419270, 419308, 429243, 431152, 46408, 47833, 52518, 56766, 74895, 103621, 105864, 108334, 128202, 130973, 159149, 165376, 173405, 186896, 242346, 252196, 257508, 257814, 282589, 290929, 311893, 318755, 329259, 345799, 372457, 372468, 377991, 381663, 389613, 400024, 407882, 408409, 409850]]\n"
     ]
    }
   ],
   "source": [
    "print(cluster_lists[0])"
   ]
  },
  {
   "cell_type": "code",
   "execution_count": 34,
   "id": "e3fc69f6",
   "metadata": {},
   "outputs": [],
   "source": [
    "new_cluster_lists = []\n",
    "for row in cluster_lists:\n",
    "    for i in range(0, len(row[0])):\n",
    "        new_row = [row[0][i], row[1], row[2]]\n",
    "        new_cluster_lists.append(new_row)"
   ]
  },
  {
   "cell_type": "code",
   "execution_count": 35,
   "id": "47813f68",
   "metadata": {},
   "outputs": [
    {
     "name": "stdout",
     "output_type": "stream",
     "text": [
      "443757\n"
     ]
    }
   ],
   "source": [
    "print(len(new_cluster_lists))"
   ]
  },
  {
   "cell_type": "code",
   "execution_count": 25,
   "id": "2d32e546",
   "metadata": {},
   "outputs": [],
   "source": []
  },
  {
   "cell_type": "code",
   "execution_count": 36,
   "id": "4ebbaa4d",
   "metadata": {},
   "outputs": [],
   "source": [
    "sorted_list = sorted(new_cluster_lists, key=lambda x: x[0])\n"
   ]
  },
  {
   "cell_type": "code",
   "execution_count": 37,
   "id": "2f95ad68",
   "metadata": {},
   "outputs": [
    {
     "name": "stdout",
     "output_type": "stream",
     "text": [
      "0 1 2\n"
     ]
    }
   ],
   "source": [
    "print(sorted_list[0][0],sorted_list[1][0],sorted_list[2][0])"
   ]
  },
  {
   "cell_type": "code",
   "execution_count": 38,
   "id": "c22b2e4e",
   "metadata": {},
   "outputs": [],
   "source": [
    "with open(\"list_an_pn.pkl\", \"wb\") as f:\n",
    "    # Use pickle to dump the list to the file\n",
    "    pickle.dump(sorted_list, f)"
   ]
  },
  {
   "cell_type": "code",
   "execution_count": null,
   "id": "f2b8f0ce",
   "metadata": {},
   "outputs": [],
   "source": []
  }
 ],
 "metadata": {
  "kernelspec": {
   "display_name": "base",
   "language": "python",
   "name": "base"
  },
  "language_info": {
   "codemirror_mode": {
    "name": "ipython",
    "version": 3
   },
   "file_extension": ".py",
   "mimetype": "text/x-python",
   "name": "python",
   "nbconvert_exporter": "python",
   "pygments_lexer": "ipython3",
   "version": "3.8.5"
  }
 },
 "nbformat": 4,
 "nbformat_minor": 5
}
